{
  "cells": [
    {
      "cell_type": "markdown",
      "metadata": {
        "id": "view-in-github",
        "colab_type": "text"
      },
      "source": [
        "<a href=\"https://colab.research.google.com/github/anuanmariya/pcb_ml_project/blob/main/pcb_project.ipynb\" target=\"_parent\"><img src=\"https://colab.research.google.com/assets/colab-badge.svg\" alt=\"Open In Colab\"/></a>"
      ]
    },
    {
      "cell_type": "code",
      "execution_count": null,
      "metadata": {
        "id": "yfuwa00PpefG"
      },
      "outputs": [],
      "source": [
        "import tensorflow as tf"
      ]
    },
    {
      "cell_type": "code",
      "execution_count": null,
      "metadata": {
        "colab": {
          "base_uri": "https://localhost:8080/"
        },
        "id": "81QC4rxyw1MP",
        "outputId": "0c4e253a-fbd4-4401-adda-68b896aa6f44"
      },
      "outputs": [
        {
          "output_type": "execute_result",
          "data": {
            "text/plain": [
              "0"
            ]
          },
          "metadata": {},
          "execution_count": 2
        }
      ],
      "source": [
        "gpus = tf.config.experimental.list_physical_devices('GPU')\n",
        "for gpu in gpus:\n",
        "  tf.config.experimental.set_memory_growth(gpu,True)\n",
        "len(gpus)"
      ]
    },
    {
      "cell_type": "code",
      "execution_count": null,
      "metadata": {
        "colab": {
          "base_uri": "https://localhost:8080/",
          "height": 120
        },
        "id": "AUsJ8n7JADpb",
        "outputId": "d5336818-5e12-4693-bf46-ed78a7fc03fd"
      },
      "outputs": [
        {
          "output_type": "execute_result",
          "data": {
            "text/plain": [
              "<function google.colab.drive.mount(mountpoint, force_remount=False, timeout_ms=120000, readonly=False)>"
            ],
            "text/html": [
              "<div style=\"max-width:800px; border: 1px solid var(--colab-border-color);\"><style>\n",
              "      pre.function-repr-contents {\n",
              "        overflow-x: auto;\n",
              "        padding: 8px 12px;\n",
              "        max-height: 500px;\n",
              "      }\n",
              "\n",
              "      pre.function-repr-contents.function-repr-contents-collapsed {\n",
              "        cursor: pointer;\n",
              "        max-height: 100px;\n",
              "      }\n",
              "    </style>\n",
              "    <pre style=\"white-space: initial; background:\n",
              "         var(--colab-secondary-surface-color); padding: 8px 12px;\n",
              "         border-bottom: 1px solid var(--colab-border-color);\"><b>google.colab.drive.mount</b><br/>def mount(mountpoint, force_remount=False, timeout_ms=120000, readonly=False)</pre><pre class=\"function-repr-contents function-repr-contents-collapsed\" style=\"\"><a class=\"filepath\" style=\"display:none\" href=\"#\">/usr/local/lib/python3.11/dist-packages/google/colab/drive.py</a>Mount your Google Drive at the specified mountpoint path.</pre>\n",
              "      <script>\n",
              "      if (google.colab.kernel.accessAllowed && google.colab.files && google.colab.files.view) {\n",
              "        for (const element of document.querySelectorAll('.filepath')) {\n",
              "          element.style.display = 'block'\n",
              "          element.onclick = (event) => {\n",
              "            event.preventDefault();\n",
              "            event.stopPropagation();\n",
              "            google.colab.files.view(element.textContent, 98);\n",
              "          };\n",
              "        }\n",
              "      }\n",
              "      for (const element of document.querySelectorAll('.function-repr-contents')) {\n",
              "        element.onclick = (event) => {\n",
              "          event.preventDefault();\n",
              "          event.stopPropagation();\n",
              "          element.classList.toggle('function-repr-contents-collapsed');\n",
              "        };\n",
              "      }\n",
              "      </script>\n",
              "      </div>"
            ]
          },
          "metadata": {},
          "execution_count": 3
        }
      ],
      "source": [
        "from google.colab import drive\n",
        "drive.mount"
      ]
    },
    {
      "cell_type": "code",
      "execution_count": null,
      "metadata": {
        "id": "zOE430fzAwZm",
        "colab": {
          "base_uri": "https://localhost:8080/"
        },
        "outputId": "6481c3ca-597e-4cc8-ed68-2df7eb382be0"
      },
      "outputs": [
        {
          "output_type": "stream",
          "name": "stdout",
          "text": [
            "Mounted at /content/drive\n"
          ]
        }
      ],
      "source": [
        "from google.colab import drive\n",
        "drive.mount('/content/drive')"
      ]
    },
    {
      "cell_type": "code",
      "execution_count": null,
      "metadata": {
        "id": "jpDvs49JdKPm"
      },
      "outputs": [],
      "source": [
        "import tensorflow as tf\n",
        "\n",
        "def load_dataset(path,\n",
        "                 img_size=(160, 160),\n",
        "                 batch_size=64,\n",
        "                 shuffle = None):\n",
        "    ds = tf.keras.utils.image_dataset_from_directory(\n",
        "        path,\n",
        "        seed=123,\n",
        "        shuffle = True,\n",
        "        image_size=img_size,\n",
        "        batch_size=batch_size,\n",
        "        labels=\"inferred\",\n",
        "        label_mode=\"int\",\n",
        "        color_mode='rgb'\n",
        "    )\n",
        "\n",
        "    class_names = ds.class_names\n",
        "    ds = ds.map(lambda x, y: (tf.cast(x, tf.float32) / 255.0, y))\n",
        "    return ds , class_names"
      ]
    },
    {
      "cell_type": "code",
      "execution_count": null,
      "metadata": {
        "id": "VF_GFvbiPI90",
        "colab": {
          "base_uri": "https://localhost:8080/"
        },
        "outputId": "ab021f35-5d14-4e7f-fbb1-e32b71ab91f7"
      },
      "outputs": [
        {
          "output_type": "stream",
          "name": "stdout",
          "text": [
            "Found 559 files belonging to 2 classes.\n",
            "Found 159 files belonging to 2 classes.\n",
            "Found 82 files belonging to 2 classes.\n",
            "Found 7503 files belonging to 6 classes.\n",
            "Found 1181 files belonging to 6 classes.\n",
            "Found 1125 files belonging to 6 classes.\n"
          ]
        }
      ],
      "source": [
        "train_b,binary_class_names = load_dataset('/content/drive/MyDrive/PCB_PROJECT_BINARY_SPLIT/train')\n",
        "val_b = load_dataset('/content/drive/MyDrive/PCB_PROJECT_BINARY_SPLIT/val')\n",
        "test_b = load_dataset('/content/drive/MyDrive/PCB_PROJECT_BINARY_SPLIT/test')\n",
        "train_m, multiclass_class_names= load_dataset('/content/drive/MyDrive/PCB_MULTICLASS_SPLIT/train')\n",
        "val_m = load_dataset('/content/drive/MyDrive/PCB_MULTICLASS_SPLIT/val')\n",
        "test_m = load_dataset('/content/drive/MyDrive/PCB_MULTICLASS_SPLIT/test')"
      ]
    },
    {
      "cell_type": "code",
      "execution_count": null,
      "metadata": {
        "id": "OX6U1QvoIrT7"
      },
      "outputs": [],
      "source": [
        "def augment_and_autotune(dataset):\n",
        "    AUTOTUNE = tf.data.AUTOTUNE\n",
        "\n",
        "    def augment(image, label):\n",
        "        def aug_fn(img):\n",
        "            img = tf.image.random_flip_left_right(img)\n",
        "            img = tf.image.random_brightness(img, max_delta=0.2)\n",
        "            img = tf.image.random_contrast(img, lower=0.7, upper=1.3)\n",
        "            img = tf.clip_by_value(img, 0.0, 1.0)\n",
        "            return img\n",
        "\n",
        "        # If batched input, map over batch\n",
        "        image = tf.map_fn(aug_fn, image)\n",
        "        return image, label\n",
        "    return dataset.map(augment, num_parallel_calls=AUTOTUNE).prefetch(AUTOTUNE)\n",
        "\n",
        "\n",
        "\n"
      ]
    },
    {
      "cell_type": "code",
      "source": [
        "train_b = augment_and_autotune(train_b)\n",
        "train_m = augment_and_autotune(train_m)\n",
        "\n",
        "# Unpack the tuples before prefetching\n",
        "val_b, _ = val_b\n",
        "val_m, _ = val_m\n",
        "test_b, _ = test_b\n",
        "test_m, _ = test_m\n",
        "\n",
        "val_b = val_b.prefetch(tf.data.AUTOTUNE)\n",
        "val_m = val_m.prefetch(tf.data.AUTOTUNE)\n",
        "test_b = test_b.prefetch(tf.data.AUTOTUNE)\n",
        "test_m = test_m.prefetch(tf.data.AUTOTUNE)"
      ],
      "metadata": {
        "id": "gTPO0bjL5QEC"
      },
      "execution_count": null,
      "outputs": []
    },
    {
      "cell_type": "markdown",
      "metadata": {
        "id": "4dKIbVVVMG8j"
      },
      "source": [
        "Binary Classifier"
      ]
    },
    {
      "cell_type": "code",
      "execution_count": null,
      "metadata": {
        "id": "2vzaxCy-OfDI"
      },
      "outputs": [],
      "source": [
        "from tensorflow.keras import layers, models\n",
        "\n",
        "def build_binary_model():\n",
        "    model = models.Sequential([\n",
        "        layers.Input(shape=(160, 160, 3)),\n",
        "        layers.Rescaling(1./255),\n",
        "        layers.Conv2D(32, 3, activation='relu'),\n",
        "        layers.MaxPooling2D(),\n",
        "        layers.Conv2D(64, 3, activation='relu'),\n",
        "        layers.MaxPooling2D(),\n",
        "        layers.Flatten(),\n",
        "        layers.Dense(128, activation='relu'),\n",
        "        layers.Dropout(0.3),\n",
        "        layers.Dense(1, activation='sigmoid')  # binary classification\n",
        "    ])\n",
        "\n",
        "    model.compile(optimizer='adam',\n",
        "                  loss='binary_crossentropy',\n",
        "                  metrics=['accuracy'])\n",
        "    return model"
      ]
    },
    {
      "cell_type": "code",
      "execution_count": null,
      "metadata": {
        "id": "VQUk7GYdPqVs",
        "colab": {
          "base_uri": "https://localhost:8080/"
        },
        "outputId": "4ec513f6-7838-465a-f8ae-4edcd5b32cb3"
      },
      "outputs": [
        {
          "output_type": "stream",
          "name": "stdout",
          "text": [
            "Epoch 1/5\n",
            "\u001b[1m9/9\u001b[0m \u001b[32m━━━━━━━━━━━━━━━━━━━━\u001b[0m\u001b[37m\u001b[0m \u001b[1m105s\u001b[0m 10s/step - accuracy: 0.8605 - loss: 0.5638 - val_accuracy: 0.8679 - val_loss: 0.3874\n",
            "Epoch 2/5\n",
            "\u001b[1m9/9\u001b[0m \u001b[32m━━━━━━━━━━━━━━━━━━━━\u001b[0m\u001b[37m\u001b[0m \u001b[1m54s\u001b[0m 6s/step - accuracy: 0.8548 - loss: 0.3781 - val_accuracy: 0.8679 - val_loss: 0.3368\n",
            "Epoch 3/5\n",
            "\u001b[1m9/9\u001b[0m \u001b[32m━━━━━━━━━━━━━━━━━━━━\u001b[0m\u001b[37m\u001b[0m \u001b[1m54s\u001b[0m 6s/step - accuracy: 0.8776 - loss: 0.3019 - val_accuracy: 0.8679 - val_loss: 0.2616\n",
            "Epoch 4/5\n",
            "\u001b[1m9/9\u001b[0m \u001b[32m━━━━━━━━━━━━━━━━━━━━\u001b[0m\u001b[37m\u001b[0m \u001b[1m82s\u001b[0m 6s/step - accuracy: 0.8891 - loss: 0.2295 - val_accuracy: 0.8742 - val_loss: 0.2241\n",
            "Epoch 5/5\n",
            "\u001b[1m9/9\u001b[0m \u001b[32m━━━━━━━━━━━━━━━━━━━━\u001b[0m\u001b[37m\u001b[0m \u001b[1m82s\u001b[0m 6s/step - accuracy: 0.9252 - loss: 0.1903 - val_accuracy: 0.9182 - val_loss: 0.1914\n"
          ]
        }
      ],
      "source": [
        "model = build_binary_model()\n",
        "history_b = model.fit(\n",
        "    train_b,\n",
        "    validation_data=val_b,\n",
        "    epochs=5\n",
        ")"
      ]
    },
    {
      "cell_type": "code",
      "execution_count": null,
      "metadata": {
        "id": "F-GJhuVFbFoE",
        "colab": {
          "base_uri": "https://localhost:8080/"
        },
        "outputId": "22496b81-1b92-4b91-8223-15508c894311"
      },
      "outputs": [
        {
          "output_type": "stream",
          "name": "stdout",
          "text": [
            "\u001b[1m2/2\u001b[0m \u001b[32m━━━━━━━━━━━━━━━━━━━━\u001b[0m\u001b[37m\u001b[0m \u001b[1m15s\u001b[0m 2s/step - accuracy: 0.9037 - loss: 0.1784\n",
            "Test Accuracy: 0.90\n"
          ]
        }
      ],
      "source": [
        "test_loss, test_acc = model.evaluate(test_b)\n",
        "print(f\"Test Accuracy: {test_acc:.2f}\")"
      ]
    },
    {
      "cell_type": "markdown",
      "source": [
        "Normal vs defective prediction"
      ],
      "metadata": {
        "id": "2bWJ27qV8XDi"
      }
    },
    {
      "cell_type": "code",
      "source": [
        "import tensorflow as tf\n",
        "import numpy as np\n",
        "from tensorflow.keras.preprocessing import image\n",
        "import matplotlib.pyplot as plt\n",
        "\n",
        "def load_and_prepare_image(img_path, target_size=(160, 160)):\n",
        "    img = image.load_img(img_path, target_size=target_size)\n",
        "    img_array = image.img_to_array(img)\n",
        "    img_array = img_array / 255.0  # normalize like training\n",
        "    img_array = np.expand_dims(img_array, axis=0)  # batch dimension\n",
        "    return img_array"
      ],
      "metadata": {
        "id": "J_NLrHqClVfm"
      },
      "execution_count": null,
      "outputs": []
    },
    {
      "cell_type": "code",
      "source": [
        "img_path = '/content/drive/MyDrive/PCB_PROJECT_BINARY_SPLIT/test/Normal /01_open_circuit_02.jpg'\n",
        "img_array = load_and_prepare_image(img_path)\n",
        "\n",
        "prediction = model.predict(img_array)[0][0]  # sigmoid output\n",
        "label = 'OK' if prediction > 0.5 else 'DEFECTIVE'\n",
        "\n",
        "print(f\"Predicted label: {label} (confidence: {prediction:.2f})\")\n"
      ],
      "metadata": {
        "id": "zWfL7DTp8cId",
        "colab": {
          "base_uri": "https://localhost:8080/",
          "height": 356
        },
        "outputId": "9ca2f59b-b8d8-4e9a-9359-cbf4bcb8e83a"
      },
      "execution_count": null,
      "outputs": [
        {
          "output_type": "error",
          "ename": "FileNotFoundError",
          "evalue": "[Errno 2] No such file or directory: '/content/drive/MyDrive/PCB_PROJECT_BINARY_SPLIT/test/Normal /01_open_circuit_02.jpg'",
          "traceback": [
            "\u001b[0;31m---------------------------------------------------------------------------\u001b[0m",
            "\u001b[0;31mFileNotFoundError\u001b[0m                         Traceback (most recent call last)",
            "\u001b[0;32m/tmp/ipython-input-13-2374823702.py\u001b[0m in \u001b[0;36m<cell line: 0>\u001b[0;34m()\u001b[0m\n\u001b[1;32m      1\u001b[0m \u001b[0mimg_path\u001b[0m \u001b[0;34m=\u001b[0m \u001b[0;34m'/content/drive/MyDrive/PCB_PROJECT_BINARY_SPLIT/test/Normal /01_open_circuit_02.jpg'\u001b[0m\u001b[0;34m\u001b[0m\u001b[0;34m\u001b[0m\u001b[0m\n\u001b[0;32m----> 2\u001b[0;31m \u001b[0mimg_array\u001b[0m \u001b[0;34m=\u001b[0m \u001b[0mload_and_prepare_image\u001b[0m\u001b[0;34m(\u001b[0m\u001b[0mimg_path\u001b[0m\u001b[0;34m)\u001b[0m\u001b[0;34m\u001b[0m\u001b[0;34m\u001b[0m\u001b[0m\n\u001b[0m\u001b[1;32m      3\u001b[0m \u001b[0;34m\u001b[0m\u001b[0m\n\u001b[1;32m      4\u001b[0m \u001b[0mprediction\u001b[0m \u001b[0;34m=\u001b[0m \u001b[0mmodel\u001b[0m\u001b[0;34m.\u001b[0m\u001b[0mpredict\u001b[0m\u001b[0;34m(\u001b[0m\u001b[0mimg_array\u001b[0m\u001b[0;34m)\u001b[0m\u001b[0;34m[\u001b[0m\u001b[0;36m0\u001b[0m\u001b[0;34m]\u001b[0m\u001b[0;34m[\u001b[0m\u001b[0;36m0\u001b[0m\u001b[0;34m]\u001b[0m  \u001b[0;31m# sigmoid output\u001b[0m\u001b[0;34m\u001b[0m\u001b[0;34m\u001b[0m\u001b[0m\n\u001b[1;32m      5\u001b[0m \u001b[0mlabel\u001b[0m \u001b[0;34m=\u001b[0m \u001b[0;34m'OK'\u001b[0m \u001b[0;32mif\u001b[0m \u001b[0mprediction\u001b[0m \u001b[0;34m>\u001b[0m \u001b[0;36m0.5\u001b[0m \u001b[0;32melse\u001b[0m \u001b[0;34m'DEFECTIVE'\u001b[0m\u001b[0;34m\u001b[0m\u001b[0;34m\u001b[0m\u001b[0m\n",
            "\u001b[0;32m/tmp/ipython-input-12-332989668.py\u001b[0m in \u001b[0;36mload_and_prepare_image\u001b[0;34m(img_path, target_size)\u001b[0m\n\u001b[1;32m      5\u001b[0m \u001b[0;34m\u001b[0m\u001b[0m\n\u001b[1;32m      6\u001b[0m \u001b[0;32mdef\u001b[0m \u001b[0mload_and_prepare_image\u001b[0m\u001b[0;34m(\u001b[0m\u001b[0mimg_path\u001b[0m\u001b[0;34m,\u001b[0m \u001b[0mtarget_size\u001b[0m\u001b[0;34m=\u001b[0m\u001b[0;34m(\u001b[0m\u001b[0;36m160\u001b[0m\u001b[0;34m,\u001b[0m \u001b[0;36m160\u001b[0m\u001b[0;34m)\u001b[0m\u001b[0;34m)\u001b[0m\u001b[0;34m:\u001b[0m\u001b[0;34m\u001b[0m\u001b[0;34m\u001b[0m\u001b[0m\n\u001b[0;32m----> 7\u001b[0;31m     \u001b[0mimg\u001b[0m \u001b[0;34m=\u001b[0m \u001b[0mimage\u001b[0m\u001b[0;34m.\u001b[0m\u001b[0mload_img\u001b[0m\u001b[0;34m(\u001b[0m\u001b[0mimg_path\u001b[0m\u001b[0;34m,\u001b[0m \u001b[0mtarget_size\u001b[0m\u001b[0;34m=\u001b[0m\u001b[0mtarget_size\u001b[0m\u001b[0;34m)\u001b[0m\u001b[0;34m\u001b[0m\u001b[0;34m\u001b[0m\u001b[0m\n\u001b[0m\u001b[1;32m      8\u001b[0m     \u001b[0mimg_array\u001b[0m \u001b[0;34m=\u001b[0m \u001b[0mimage\u001b[0m\u001b[0;34m.\u001b[0m\u001b[0mimg_to_array\u001b[0m\u001b[0;34m(\u001b[0m\u001b[0mimg\u001b[0m\u001b[0;34m)\u001b[0m\u001b[0;34m\u001b[0m\u001b[0;34m\u001b[0m\u001b[0m\n\u001b[1;32m      9\u001b[0m     \u001b[0mimg_array\u001b[0m \u001b[0;34m=\u001b[0m \u001b[0mimg_array\u001b[0m \u001b[0;34m/\u001b[0m \u001b[0;36m255.0\u001b[0m  \u001b[0;31m# normalize like training\u001b[0m\u001b[0;34m\u001b[0m\u001b[0;34m\u001b[0m\u001b[0m\n",
            "\u001b[0;32m/usr/local/lib/python3.11/dist-packages/keras/src/utils/image_utils.py\u001b[0m in \u001b[0;36mload_img\u001b[0;34m(path, color_mode, target_size, interpolation, keep_aspect_ratio)\u001b[0m\n\u001b[1;32m    233\u001b[0m         \u001b[0;32mif\u001b[0m \u001b[0misinstance\u001b[0m\u001b[0;34m(\u001b[0m\u001b[0mpath\u001b[0m\u001b[0;34m,\u001b[0m \u001b[0mpathlib\u001b[0m\u001b[0;34m.\u001b[0m\u001b[0mPath\u001b[0m\u001b[0;34m)\u001b[0m\u001b[0;34m:\u001b[0m\u001b[0;34m\u001b[0m\u001b[0;34m\u001b[0m\u001b[0m\n\u001b[1;32m    234\u001b[0m             \u001b[0mpath\u001b[0m \u001b[0;34m=\u001b[0m \u001b[0mstr\u001b[0m\u001b[0;34m(\u001b[0m\u001b[0mpath\u001b[0m\u001b[0;34m.\u001b[0m\u001b[0mresolve\u001b[0m\u001b[0;34m(\u001b[0m\u001b[0;34m)\u001b[0m\u001b[0;34m)\u001b[0m\u001b[0;34m\u001b[0m\u001b[0;34m\u001b[0m\u001b[0m\n\u001b[0;32m--> 235\u001b[0;31m         \u001b[0;32mwith\u001b[0m \u001b[0mopen\u001b[0m\u001b[0;34m(\u001b[0m\u001b[0mpath\u001b[0m\u001b[0;34m,\u001b[0m \u001b[0;34m\"rb\"\u001b[0m\u001b[0;34m)\u001b[0m \u001b[0;32mas\u001b[0m \u001b[0mf\u001b[0m\u001b[0;34m:\u001b[0m\u001b[0;34m\u001b[0m\u001b[0;34m\u001b[0m\u001b[0m\n\u001b[0m\u001b[1;32m    236\u001b[0m             \u001b[0mimg\u001b[0m \u001b[0;34m=\u001b[0m \u001b[0mpil_image\u001b[0m\u001b[0;34m.\u001b[0m\u001b[0mopen\u001b[0m\u001b[0;34m(\u001b[0m\u001b[0mio\u001b[0m\u001b[0;34m.\u001b[0m\u001b[0mBytesIO\u001b[0m\u001b[0;34m(\u001b[0m\u001b[0mf\u001b[0m\u001b[0;34m.\u001b[0m\u001b[0mread\u001b[0m\u001b[0;34m(\u001b[0m\u001b[0;34m)\u001b[0m\u001b[0;34m)\u001b[0m\u001b[0;34m)\u001b[0m\u001b[0;34m\u001b[0m\u001b[0;34m\u001b[0m\u001b[0m\n\u001b[1;32m    237\u001b[0m     \u001b[0;32melse\u001b[0m\u001b[0;34m:\u001b[0m\u001b[0;34m\u001b[0m\u001b[0;34m\u001b[0m\u001b[0m\n",
            "\u001b[0;31mFileNotFoundError\u001b[0m: [Errno 2] No such file or directory: '/content/drive/MyDrive/PCB_PROJECT_BINARY_SPLIT/test/Normal /01_open_circuit_02.jpg'"
          ]
        }
      ]
    },
    {
      "cell_type": "code",
      "source": [
        "plt.imshow(image.load_img(img_path))\n",
        "plt.title(f\"Prediction: {label}\")\n",
        "plt.axis('off')\n",
        "plt.show()"
      ],
      "metadata": {
        "id": "EuU5X_1N8f3e"
      },
      "execution_count": null,
      "outputs": []
    },
    {
      "cell_type": "code",
      "source": [
        "import tensorflow as tf\n",
        "from tensorflow.keras import layers, models\n",
        "from tensorflow.keras.preprocessing import image\n",
        "import numpy as np\n",
        "import matplotlib.pyplot as plt\n",
        "\n",
        "# === 1. Build the CNN Model ===\n",
        "def build_binary_model():\n",
        "    model = models.Sequential([\n",
        "        layers.Input(shape=(160, 160, 3)),\n",
        "        layers.Rescaling(1./255),\n",
        "        layers.Conv2D(32, 3, activation='relu'),\n",
        "        layers.MaxPooling2D(),\n",
        "        layers.Conv2D(64, 3, activation='relu'),\n",
        "        layers.MaxPooling2D(),\n",
        "        layers.Flatten(),\n",
        "        layers.Dense(128, activation='relu'),\n",
        "        layers.Dropout(0.3),\n",
        "        layers.Dense(1, activation='sigmoid')  # Binary classification\n",
        "    ])\n",
        "\n",
        "    model.compile(optimizer='adam',\n",
        "                  loss='binary_crossentropy',\n",
        "                  metrics=['accuracy'])\n",
        "    return model\n",
        "\n",
        "# === 2. Load Datasets (Using RGB Only, No Grayscale) ===\n",
        "train_b = tf.keras.preprocessing.image_dataset_from_directory(\n",
        "    '/content/drive/MyDrive/PCB_PROJECT_BINARY_SPLIT/train',\n",
        "    image_size=(160, 160),\n",
        "    batch_size=32,\n",
        "    label_mode='binary'\n",
        ")\n",
        "\n",
        "val_b = tf.keras.preprocessing.image_dataset_from_directory(\n",
        "    '/content/drive/MyDrive/PCB_PROJECT_BINARY_SPLIT/val',\n",
        "    image_size=(160, 160),\n",
        "    batch_size=32,\n",
        "    label_mode='binary'\n",
        ")\n",
        "\n",
        "test_b = tf.keras.preprocessing.image_dataset_from_directory(\n",
        "    '/content/drive/MyDrive/PCB_PROJECT_BINARY_SPLIT/test',\n",
        "    image_size=(160, 160),\n",
        "    batch_size=32,\n",
        "    label_mode='binary'\n",
        ")\n",
        "\n",
        "# === 3. Train the Model ===\n",
        "model = build_binary_model()\n",
        "history_b = model.fit(\n",
        "    train_b,\n",
        "    validation_data=val_b,\n",
        "    epochs=15\n",
        ")\n",
        "\n",
        "# === 4. Evaluate on Test Set ===\n",
        "test_loss, test_acc = model.evaluate(test_b)\n",
        "print(f\"Test Accuracy: {test_acc:.2f}\")\n",
        "\n",
        "# === 5. Load and Prepare a Single RGB Image for Prediction ===\n",
        "def load_and_prepare_image(img_path, target_size=(160, 160)):\n",
        "    img = image.load_img(img_path, color_mode='rgb', target_size=target_size)  # RGB mode\n",
        "    img_array = image.img_to_array(img)\n",
        "    img_array = img_array / 255.0  # Normalize\n",
        "    img_array = np.expand_dims(img_array, axis=0)  # Add batch dimension\n",
        "    return img_array\n",
        "\n",
        "# === 6. Predict a Single Image ===\n",
        "img_path = '/content/drive/MyDrive/PCB_PROJECT_BINARY_SPLIT/test/Normal/13000021_temp.jpg'\n",
        "img_array = load_and_prepare_image(img_path)\n",
        "\n",
        "prediction = model.predict(img_array)[0][0]\n",
        "label = 'NORMAL' if prediction > 0.5 else 'DEFECTIVE'\n",
        "\n",
        "# === 7. Display Prediction Result ===\n",
        "plt.imshow(image.load_img(img_path))  # Show in RGB\n",
        "plt.title(f\"Prediction: {label} (Confidence: {prediction:.2f})\")\n",
        "plt.axis('off')\n",
        "plt.show()\n"
      ],
      "metadata": {
        "id": "8dQZ4ImLx0w_"
      },
      "execution_count": null,
      "outputs": []
    },
    {
      "cell_type": "markdown",
      "source": [
        "converted every image to greyscale"
      ],
      "metadata": {
        "id": "HbnOmlvDYq52"
      }
    },
    {
      "cell_type": "code",
      "source": [
        "import tensorflow as tf\n",
        "from tensorflow.keras import layers, models\n",
        "from tensorflow.keras.preprocessing import image\n",
        "import numpy as np\n",
        "import matplotlib.pyplot as plt\n",
        "\n",
        "# === 1. Build the CNN Model ===\n",
        "def build_binary_model():\n",
        "    model = models.Sequential([\n",
        "        layers.Input(shape=(160, 160, 3)),\n",
        "        layers.Rescaling(1./255),\n",
        "        layers.Conv2D(32, 3, activation='relu'),\n",
        "        layers.MaxPooling2D(),\n",
        "        layers.Conv2D(64, 3, activation='relu'),\n",
        "        layers.MaxPooling2D(),\n",
        "        layers.Flatten(),\n",
        "        layers.Dense(128, activation='relu'),\n",
        "        layers.Dropout(0.3),\n",
        "        layers.Dense(1, activation='sigmoid')  # Binary classification\n",
        "    ])\n",
        "\n",
        "    model.compile(optimizer='adam',\n",
        "                  loss='binary_crossentropy',\n",
        "                  metrics=['accuracy'])\n",
        "    return model\n",
        "\n",
        "# === 2. Preprocessing: Convert RGB to Grayscale and back to 3-channel ===\n",
        "@tf.function\n",
        "def convert_to_grayscale(image, label):\n",
        "    image = tf.image.rgb_to_grayscale(image)\n",
        "    image = tf.image.grayscale_to_rgb(image)  # Convert back to 3 channels\n",
        "    return image, label\n",
        "\n",
        "# === 3. Load Datasets (example) ===\n",
        "# Replace with your own dataset loading\n",
        "train_b = tf.keras.preprocessing.image_dataset_from_directory(\n",
        "    '/content/drive/MyDrive/PCB_PROJECT_BINARY_SPLIT/train',\n",
        "    image_size=(160, 160),\n",
        "    batch_size=32,\n",
        "    label_mode='binary'\n",
        ")\n",
        "val_b = tf.keras.preprocessing.image_dataset_from_directory(\n",
        "    '/content/drive/MyDrive/PCB_PROJECT_BINARY_SPLIT/val',\n",
        "    image_size=(160, 160),\n",
        "    batch_size=32,\n",
        "    label_mode='binary'\n",
        ")\n",
        "test_b = tf.keras.preprocessing.image_dataset_from_directory(\n",
        "    '/content/drive/MyDrive/PCB_PROJECT_BINARY_SPLIT/test',\n",
        "    image_size=(160, 160),\n",
        "    batch_size=32,\n",
        "    label_mode='binary'\n",
        ")\n",
        "\n",
        "# === 4. Apply Grayscale Preprocessing to Datasets ===\n",
        "train_b = train_b.map(convert_to_grayscale)\n",
        "val_b = val_b.map(convert_to_grayscale)\n",
        "test_b = test_b.map(convert_to_grayscale)\n",
        "\n",
        "# === 5. Train the Model ===\n",
        "model = build_binary_model()\n",
        "history_b = model.fit(\n",
        "    train_b,\n",
        "    validation_data=val_b,\n",
        "    epochs=15\n",
        ")\n",
        "\n",
        "# === 6. Evaluate on Test Set ===\n",
        "test_loss, test_acc = model.evaluate(test_b)\n",
        "print(f\"Test Accuracy: {test_acc:.2f}\")\n",
        "\n",
        "# === 7. Load and Prepare a Single Image for Prediction ===\n",
        "def load_and_prepare_image(img_path, target_size=(160, 160)):\n",
        "    img = image.load_img(img_path, color_mode='grayscale', target_size=target_size)\n",
        "    img_array = image.img_to_array(img)\n",
        "    img_array = np.repeat(img_array, 3, axis=-1)  # Make it 3-channel\n",
        "    img_array = img_array / 255.0  # Normalize\n",
        "    img_array = np.expand_dims(img_array, axis=0)  # Add batch dimension\n",
        "    return img_array\n",
        "\n",
        "# === 8. Predict a Single Image ===\n",
        "img_path = '/content/drive/MyDrive/PCB_PROJECT_BINARY_SPLIT/test/Normal/13000021_temp.jpg'\n",
        "img_array = load_and_prepare_image(img_path)\n",
        "\n",
        "prediction = model.predict(img_array)[0][0]\n",
        "label = 'NORMAL' if prediction > 0.5 else 'DEFECTIVE'\n",
        "\n",
        "# === 9. Display Prediction Result ===\n",
        "plt.imshow(image.load_img(img_path, color_mode='grayscale'), cmap='gray')\n",
        "plt.title(f\"Prediction: {label} (Confidence: {prediction:.2f})\")\n",
        "plt.axis('off')\n",
        "plt.show()\n"
      ],
      "metadata": {
        "id": "uPh-d_KotQxc"
      },
      "execution_count": null,
      "outputs": []
    },
    {
      "cell_type": "markdown",
      "metadata": {
        "id": "Cn8W5FVEGGym"
      },
      "source": [
        "Multiclass classifier"
      ]
    },
    {
      "cell_type": "code",
      "source": [
        "from sklearn.utils.class_weight import compute_class_weight\n",
        "import numpy as np\n",
        "\n",
        "# Get true labels from train_m dataset\n",
        "y_train = np.concatenate([y.numpy() for x, y in train_m])\n",
        "\n",
        "# Compute class weights\n",
        "weights = compute_class_weight(class_weight='balanced',\n",
        "                                classes=np.unique(y_train),\n",
        "                                y=y_train)\n",
        "\n",
        "class_weights = dict(enumerate(weights))"
      ],
      "metadata": {
        "id": "cNMMaUwB10iE"
      },
      "execution_count": null,
      "outputs": []
    },
    {
      "cell_type": "code",
      "execution_count": null,
      "metadata": {
        "id": "DF8o_24oA8HS"
      },
      "outputs": [],
      "source": [
        "import tensorflow as tf\n",
        "from tensorflow.keras import layers, models\n",
        "\n",
        "# Automatically get number of classes from dataset\n",
        "num_classes = 6\n",
        "img_height, img_width = 128, 128  # match your dataset size\n",
        "\n",
        "# Define CNN model\n",
        "model_m = models.Sequential([\n",
        "    layers.Conv2D(32, (3, 3), activation='relu', input_shape=(img_height, img_width, 3)),\n",
        "    layers.MaxPooling2D((2, 2)),\n",
        "\n",
        "    layers.Conv2D(64, (3, 3), activation='relu'),\n",
        "    layers.MaxPooling2D((2, 2)),\n",
        "\n",
        "    layers.Conv2D(128, (3, 3), activation='relu'),\n",
        "    layers.MaxPooling2D((2, 2)),\n",
        "\n",
        "    layers.Flatten(),\n",
        "    layers.Dense(128, activation='relu'),\n",
        "    layers.Dropout(0.5),\n",
        "    layers.Dense(num_classes, activation='softmax')  # softmax for multiclass\n",
        "])\n"
      ]
    },
    {
      "cell_type": "code",
      "execution_count": null,
      "metadata": {
        "id": "FtUleT_zBcHm"
      },
      "outputs": [],
      "source": [
        "model_m.compile(optimizer='adam',\n",
        "              loss='sparse_categorical_crossentropy',  # sparse categorical because labels are integers\n",
        "              metrics=['accuracy'])\n"
      ]
    },
    {
      "cell_type": "code",
      "execution_count": null,
      "metadata": {
        "id": "VhlhVnTLBk-B"
      },
      "outputs": [],
      "source": [
        "history = model_m.fit(\n",
        "    train_m,\n",
        "    validation_data=val_m,\n",
        "    epochs=20\n",
        ")\n"
      ]
    },
    {
      "cell_type": "code",
      "source": [
        "test_loss, test_acc = model_m.evaluate(test_b)\n",
        "print(f\"Test Accuracy: {test_acc:.2f}\")"
      ],
      "metadata": {
        "id": "x7FSw6LQPl_p"
      },
      "execution_count": null,
      "outputs": []
    },
    {
      "cell_type": "code",
      "execution_count": null,
      "metadata": {
        "id": "RHYdOR23fBDa"
      },
      "outputs": [],
      "source": [
        "import numpy as np\n",
        "from sklearn.metrics import confusion_matrix, classification_report, ConfusionMatrixDisplay\n",
        "import matplotlib.pyplot as plt\n",
        "\n",
        "# Step 1: Get true labels and predictions\n",
        "y_true = []\n",
        "y_pred = []\n",
        "\n",
        "for images, labels in test_m:\n",
        "    preds = model_m.predict(images)\n",
        "    y_true.extend(labels.numpy())\n",
        "    y_pred.extend(np.argmax(preds, axis=1))  # Choose class with highest probability\n",
        "\n",
        "y_true = np.array(y_true)\n",
        "y_pred = np.array(y_pred)\n",
        "\n",
        "# Step 2: Confusion matrix\n",
        "cm = confusion_matrix(y_true, y_pred)\n",
        "disp = ConfusionMatrixDisplay(confusion_matrix=cm, display_labels=multiclass_class_names)\n",
        "disp.plot(cmap='Blues', xticks_rotation=45)\n",
        "plt.title(\"Confusion Matrix\")\n",
        "plt.show()\n",
        "\n",
        "# Step 3: Classification report\n",
        "print(\"Classification Report:\")\n",
        "print(classification_report(y_true, y_pred, target_names=multiclass_class_names))\n"
      ]
    },
    {
      "cell_type": "code",
      "source": [
        "!unzip /content/drive/MyDrive/archive.zip -d /content"
      ],
      "metadata": {
        "id": "GB4rV43S8Q7r"
      },
      "execution_count": null,
      "outputs": []
    },
    {
      "cell_type": "code",
      "source": [
        " !git clone https://github.com/ultralytics/yolov5.git\n",
        " !ls"
      ],
      "metadata": {
        "id": "WRBsd4qj8ZDw"
      },
      "execution_count": null,
      "outputs": []
    },
    {
      "cell_type": "code",
      "source": [
        "%cd yolov5\n",
        "!pip install -r requirements.txt"
      ],
      "metadata": {
        "id": "pWC1FFbuAHFU"
      },
      "execution_count": null,
      "outputs": []
    },
    {
      "cell_type": "code",
      "source": [],
      "metadata": {
        "id": "yVCB9FjAAO2V"
      },
      "execution_count": null,
      "outputs": []
    },
    {
      "cell_type": "code",
      "source": [
        "!python train.py --img 416 --batch 16 --epochs 20 --data data.yaml --weights yolov5s.pt --cache --name pcb_data"
      ],
      "metadata": {
        "id": "UJKFefRcAVQV"
      },
      "execution_count": null,
      "outputs": []
    }
  ],
  "metadata": {
    "colab": {
      "gpuType": "T4",
      "provenance": [],
      "include_colab_link": true
    },
    "kernelspec": {
      "display_name": "Python 3",
      "name": "python3"
    },
    "language_info": {
      "name": "python"
    }
  },
  "nbformat": 4,
  "nbformat_minor": 0
}